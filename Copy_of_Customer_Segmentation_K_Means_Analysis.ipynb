{
  "cells": [
    {
      "metadata": {
        "id": "-kt105kbNTrt"
      },
      "cell_type": "markdown",
      "source": [
        "# Customer Segmentation - K-Means Analysis"
      ]
    },
    {
      "metadata": {
        "id": "gEn5aolONTrw"
      },
      "cell_type": "markdown",
      "source": [
        "# Libraries imports and first insight"
      ]
    },
    {
      "metadata": {
        "trusted": true,
        "id": "RUiENCzZNTrx"
      },
      "cell_type": "code",
      "source": [
        "import numpy as np\n",
        "import pandas as pd\n",
        "import matplotlib.pyplot as plt\n",
        "import seaborn as sns\n",
        "import os"
      ],
      "execution_count": 2,
      "outputs": []
    },
    {
      "metadata": {
        "trusted": true,
        "id": "XPNDPzf9NTrx"
      },
      "cell_type": "code",
      "source": [
        "from sklearn.cluster import KMeans\n",
        "from sklearn.metrics import silhouette_score"
      ],
      "execution_count": 3,
      "outputs": []
    },
    {
      "metadata": {
        "id": "W8sXnufANTry"
      },
      "cell_type": "markdown",
      "source": [
        "First let's explore the dataset first"
      ]
    },
    {
      "metadata": {
        "trusted": true,
        "id": "PPc0x9RbNTry"
      },
      "cell_type": "code",
      "source": [
        "df = pd.read_csv(r'../input/Mall_Customers.csv')\n",
        "df.head()"
      ],
      "execution_count": null,
      "outputs": []
    },
    {
      "metadata": {
        "id": "AWllNcv1NTry"
      },
      "cell_type": "markdown",
      "source": [
        "The features are quite explicit."
      ]
    },
    {
      "metadata": {
        "trusted": true,
        "id": "_yw-F9IsNTrz"
      },
      "cell_type": "code",
      "source": [
        "df.shape"
      ],
      "execution_count": null,
      "outputs": []
    },
    {
      "metadata": {
        "trusted": true,
        "id": "K8pjLmGANTrz"
      },
      "cell_type": "code",
      "source": [
        "df.info()"
      ],
      "execution_count": null,
      "outputs": []
    },
    {
      "metadata": {
        "trusted": true,
        "id": "vGRjz81SNTrz"
      },
      "cell_type": "code",
      "source": [
        "df.duplicated().sum()"
      ],
      "execution_count": null,
      "outputs": []
    },
    {
      "metadata": {
        "id": "wi2DNfvNNTrz"
      },
      "cell_type": "markdown",
      "source": [
        "No need to clean the dataset"
      ]
    },
    {
      "metadata": {
        "trusted": true,
        "id": "Rzl310mPNTrz"
      },
      "cell_type": "code",
      "source": [
        "df.describe()"
      ],
      "execution_count": null,
      "outputs": []
    },
    {
      "metadata": {
        "id": "T-CDTxRGNTrz"
      },
      "cell_type": "markdown",
      "source": [
        "---"
      ]
    },
    {
      "metadata": {
        "id": "zBqn10BjNTr0"
      },
      "cell_type": "markdown",
      "source": [
        "# Data exploration and visualization"
      ]
    },
    {
      "metadata": {
        "id": "fpU7pGFvNTr0"
      },
      "cell_type": "markdown",
      "source": [
        "Plot pairwise relationships between features in a dataset."
      ]
    },
    {
      "metadata": {
        "trusted": true,
        "id": "Js9Sql-mNTr0"
      },
      "cell_type": "code",
      "source": [
        "plt.figure(1, figsize=(16,10))\n",
        "sns.pairplot(data=df, hue='Gender')\n",
        "plt.show()"
      ],
      "execution_count": null,
      "outputs": []
    },
    {
      "metadata": {
        "id": "cKjDiQcvNTr0"
      },
      "cell_type": "markdown",
      "source": [
        "Number of male vs female"
      ]
    },
    {
      "metadata": {
        "trusted": true,
        "id": "qdDGjdKTNTr0"
      },
      "cell_type": "code",
      "source": [
        "plt.figure(1, figsize=(4,4))\n",
        "sns.countplot(x='Gender', data=df)\n",
        "plt.show()"
      ],
      "execution_count": null,
      "outputs": []
    },
    {
      "metadata": {
        "id": "Ppy14fA9NTr0"
      },
      "cell_type": "markdown",
      "source": [
        "Distribution of numerical features (Age, Annual income & Spending score)"
      ]
    },
    {
      "metadata": {
        "trusted": true,
        "id": "RY2-j_ZONTr0"
      },
      "cell_type": "code",
      "source": [
        "plt.figure(1, figsize=(16,4))\n",
        "n = 0\n",
        "for x in ['Age', 'Annual Income (k$)', 'Spending Score (1-100)']:\n",
        "    n += 1\n",
        "    plt.subplot(1, 3, n)\n",
        "    plt.subplots_adjust(hspace=0.5 , wspace=0.5)\n",
        "    sns.distplot(df[x] , bins=10)\n",
        "    plt.title('Distplot of {}'.format(x))\n",
        "plt.show()"
      ],
      "execution_count": null,
      "outputs": []
    },
    {
      "metadata": {
        "id": "1479aTItNTr1"
      },
      "cell_type": "markdown",
      "source": [
        "---"
      ]
    },
    {
      "metadata": {
        "id": "nGx5QDT3NTr1"
      },
      "cell_type": "markdown",
      "source": [
        "# Clustering using K- means"
      ]
    },
    {
      "metadata": {
        "id": "NS4fK9JdNTr1"
      },
      "cell_type": "markdown",
      "source": [
        "## ML model"
      ]
    },
    {
      "metadata": {
        "id": "q3-_9ctcNTr1"
      },
      "cell_type": "markdown",
      "source": [
        "__Concept__\n",
        "\n",
        "K-means clustering is one of the simplest and popular unsupervised machine learning algorithms.\n",
        "\n",
        "Typically, unsupervised algorithms make inferences from datasets using only input vectors without referring to known, or labelled, outcomes.\n",
        "\n",
        "A cluster refers to a collection of data points aggregated together because of certain similarities.\n",
        "\n",
        "You’ll define a target number k, which refers to the number of centroids you need in the dataset. A centroid is the imaginary or real location representing the center of the cluster.\n",
        "\n",
        "Every data point is allocated to each of the clusters through reducing the in-cluster sum of squares.\n",
        "\n",
        "In other words, the K-means algorithm identifies k number of centroids, and then allocates every data point to the nearest cluster, while keeping the centroids as small as possible.\n",
        "\n",
        "The ‘means’ in the K-means refers to averaging of the data; that is, finding the centroid.\n",
        "\n",
        "__How the K-means algorithm works__\n",
        "\n",
        "To process the learning data, the K-means algorithm in data mining starts with a first group of randomly selected centroids, which are used as the beginning points for every cluster, and then performs iterative (repetitive) calculations to optimize the positions of the centroids\n",
        "\n",
        "It halts creating and optimizing clusters when either:\n",
        "\n",
        "The centroids have stabilized — there is no change in their values because the clustering has been successful.\n",
        "The defined number of iterations has been achieved.\n",
        "\n",
        "__Optimal K: the elbow method__\n",
        "\n",
        "How many clusters would you choose ?\n",
        "\n",
        "\n",
        "A common, empirical method, is the elbow method. You plot the mean distance of every point toward its cluster center, as a function of the number of clusters.\n",
        "\n",
        "Sometimes the plot has an arm shape, and the elbow would be the optimal K.\n",
        "\n",
        "<img src=\"input/elbow.png\" style=\"height:300px\">\n",
        "\n",
        "Warning: this method does not apply all the time: sometimes you don't have a clear elbow! In any case, you have to check on the data how is the clustering and make sure it makes sense."
      ]
    },
    {
      "metadata": {
        "id": "rC-voz60NTr2"
      },
      "cell_type": "markdown",
      "source": [
        "## Application in this use-case"
      ]
    },
    {
      "metadata": {
        "id": "c2J2m9LYNTr2"
      },
      "cell_type": "markdown",
      "source": [
        "Let's perform clustering (optimizing K with the elbow method). In order to simplify the problem, we start by keeping only the two last columns as features."
      ]
    },
    {
      "metadata": {
        "trusted": true,
        "id": "U0W6tr74NTr2"
      },
      "cell_type": "code",
      "source": [
        "X = df.iloc[:, -2:]"
      ],
      "execution_count": null,
      "outputs": []
    },
    {
      "metadata": {
        "scrolled": true,
        "trusted": true,
        "id": "C9BhsqJpNTr2"
      },
      "cell_type": "code",
      "source": [
        "km_inertias, km_scores = [], []\n",
        "\n",
        "for k in range(2, 11):\n",
        "    km = KMeans(n_clusters=k).fit(X)\n",
        "    km_inertias.append(km.inertia_)\n",
        "    km_scores.append(silhouette_score(X, km.labels_))\n",
        "\n",
        "sns.lineplot(range(2, 11), km_inertias)\n",
        "plt.title('elbow graph / inertia depending on k')\n",
        "plt.show()"
      ],
      "execution_count": null,
      "outputs": []
    },
    {
      "metadata": {
        "scrolled": true,
        "trusted": true,
        "id": "X1x2srk7NTr2"
      },
      "cell_type": "code",
      "source": [
        "sns.lineplot(range(2, 11), km_scores)\n",
        "plt.title('scores depending on k')\n",
        "plt.show()"
      ],
      "execution_count": null,
      "outputs": []
    },
    {
      "metadata": {
        "id": "YsZr_w-dNTr2"
      },
      "cell_type": "markdown",
      "source": [
        "Now let's apply K-means on more than 2 features."
      ]
    },
    {
      "metadata": {
        "trusted": true,
        "id": "Kvr1EjBFNTr2"
      },
      "cell_type": "code",
      "source": [
        "X = df.iloc[:, -3:]"
      ],
      "execution_count": null,
      "outputs": []
    },
    {
      "metadata": {
        "scrolled": true,
        "trusted": true,
        "id": "GK5xWh9MNTr3"
      },
      "cell_type": "code",
      "source": [
        "km_inertias, km_scores = [], []\n",
        "\n",
        "for k in range(2, 11):\n",
        "    km = KMeans(n_clusters=k).fit(X)\n",
        "    km_inertias.append(km.inertia_)\n",
        "    km_scores.append(silhouette_score(X, km.labels_))\n",
        "\n",
        "sns.lineplot(range(2, 11), km_inertias)\n",
        "plt.title('elbow graph / inertia depending on k')\n",
        "plt.show()"
      ],
      "execution_count": null,
      "outputs": []
    },
    {
      "metadata": {
        "trusted": true,
        "id": "AyQK6CcZNTr3"
      },
      "cell_type": "code",
      "source": [
        "sns.lineplot(range(2, 11), km_scores)\n",
        "plt.title('scores depending on k')\n",
        "plt.show()"
      ],
      "execution_count": null,
      "outputs": []
    },
    {
      "metadata": {
        "trusted": true,
        "id": "fEAtTWy0NTr3"
      },
      "cell_type": "code",
      "source": [
        "km = KMeans(n_clusters=5).fit(X)"
      ],
      "execution_count": null,
      "outputs": []
    },
    {
      "metadata": {
        "trusted": true,
        "id": "EkKrE61sNTr7"
      },
      "cell_type": "code",
      "source": [
        "# K-Means visualization on pair of 2 features\n",
        "plt.figure(figsize=(10, 6))\n",
        "sns.scatterplot(X.iloc[:, 1], X.iloc[:, 2], hue=km.labels_)\n",
        "plt.show()"
      ],
      "execution_count": null,
      "outputs": []
    },
    {
      "metadata": {
        "trusted": true,
        "id": "m0VxvNTvNTr7"
      },
      "cell_type": "code",
      "source": [
        "# K-Means visualization on another pair of 2 features\n",
        "plt.figure(figsize=(10, 6))\n",
        "sns.scatterplot(X.iloc[:, 0], X.iloc[:, 1], hue=km.labels_)\n",
        "plt.show()"
      ],
      "execution_count": null,
      "outputs": []
    },
    {
      "metadata": {
        "code_folding": [],
        "trusted": true,
        "id": "1HTPvM6-NTr7"
      },
      "cell_type": "code",
      "source": [
        "# K-Means visualization on the last pair of 2 features\n",
        "plt.figure(figsize=(10, 6))\n",
        "sns.scatterplot(X.iloc[:, 0], X.iloc[:, 2], hue=km.labels_)\n",
        "plt.show()"
      ],
      "execution_count": null,
      "outputs": []
    },
    {
      "metadata": {
        "id": "A1FaihhPNTr8"
      },
      "cell_type": "markdown",
      "source": [
        "## Visualization  of the clusters in a 3D scatter plot."
      ]
    },
    {
      "metadata": {
        "trusted": true,
        "id": "TSxGX2VeNTr8"
      },
      "cell_type": "code",
      "source": [
        "from mpl_toolkits.mplot3d import Axes3D\n",
        "\n",
        "fig = plt.figure(figsize=(8,8))\n",
        "ax = Axes3D(fig)\n",
        "\n",
        "xs = X.iloc[:, 0]\n",
        "ys = X.iloc[:, 1]\n",
        "zs = X.iloc[:, 2]\n",
        "ax.scatter(xs, ys, zs, s=50, alpha=0.6, c=km.labels_)\n",
        "\n",
        "ax.set_xlabel('Age')\n",
        "ax.set_ylabel('Annual income')\n",
        "ax.set_zlabel('Spending score')\n",
        "\n",
        "plt.show()"
      ],
      "execution_count": null,
      "outputs": []
    },
    {
      "metadata": {
        "id": "aYCvMgk0NTr8"
      },
      "cell_type": "markdown",
      "source": [
        "This Clustering Analysis gives us a very clear insight about the different segments of the customers in the Mall. There are clearly 5 segments of Customers based on their Annual Income and Spending Score which are reportedly the best factors/attributes to determine the segments of a customer in a Mall."
      ]
    },
    {
      "metadata": {
        "id": "cVnTcTLxNTr8"
      },
      "cell_type": "markdown",
      "source": [
        "## Definition of customers profiles corresponding to each clusters"
      ]
    },
    {
      "metadata": {
        "trusted": true,
        "id": "2cZqdEzmNTr8"
      },
      "cell_type": "code",
      "source": [
        "# Profiles of customers\n",
        "X['label'] = km.labels_"
      ],
      "execution_count": null,
      "outputs": []
    },
    {
      "metadata": {
        "trusted": true,
        "id": "SHk9egT4NTr9"
      },
      "cell_type": "code",
      "source": [
        "X.label.value_counts()"
      ],
      "execution_count": null,
      "outputs": []
    },
    {
      "metadata": {
        "trusted": true,
        "id": "aP5KD_AhNTr9"
      },
      "cell_type": "code",
      "source": [
        "for k in range(5):\n",
        "    print(f'cluster nb : {k}')\n",
        "    print(X[X.label == k].describe().iloc[[0, 1, 3, 7], :-1])\n",
        "    print('\\n\\n')"
      ],
      "execution_count": null,
      "outputs": []
    },
    {
      "metadata": {
        "trusted": true,
        "id": "y3AEqVRCNTr9"
      },
      "cell_type": "code",
      "source": [
        "X[X.label == 1].describe().iloc[[0, 1, 3, 7], :-1]"
      ],
      "execution_count": null,
      "outputs": []
    },
    {
      "metadata": {
        "id": "Wq3wmJnLNTr-"
      },
      "cell_type": "markdown",
      "source": [
        "---"
      ]
    },
    {
      "metadata": {
        "trusted": true,
        "id": "DfR84FSfNTr-"
      },
      "cell_type": "code",
      "source": [
        "# Cluster counts\n",
        "cluster_counts = [79, 36, 39, 23, 23]\n",
        "\n",
        "# Total count\n",
        "total_count = sum(cluster_counts)\n",
        "\n",
        "# Calculate percentages\n",
        "cluster_percentages = [(count / total_count) * 100 for count in cluster_counts]\n",
        "cluster_percentages\n"
      ],
      "execution_count": null,
      "outputs": []
    },
    {
      "cell_type": "markdown",
      "source": [
        "## Key Findings:\n",
        "- **Cluster 0**: High-income customers with **moderate spending** (11.5% of the dataset).  \n",
        "  **Impact**: This group represents potential high-value customers, where targeted promotions could boost spending, increasing overall revenue.\n",
        "  \n",
        "- **Cluster 1**: Customers with **low spending** and **medium income** (3.6% of the dataset).  \n",
        "  **Impact**: These customers are underperforming. Special engagement strategies like personalized offers or discounts could help increase their spending.\n",
        "  \n",
        "- **Cluster 2**: Customers with **high spending** and **low income** (18.8% of the dataset).  \n",
        "  **Impact**: This group is spending a lot but may need financial management tools or loyalty programs to maintain their engagement. They could benefit from targeted communication about affordable options or budgeting advice.\n",
        "  \n",
        "- **Cluster 3**: Young customers with **low spending** (2.3% of the dataset).  \n",
        "  **Impact**: This group may be in the early stages of brand interaction. Offering them incentives like discounts or rewards for their first purchase could increase their lifetime value.\n",
        "  \n",
        "- **Cluster 4**: Older customers with **low income** and **moderate spending** (18.8% of the dataset).  \n",
        "  **Impact**: These customers might benefit from budget-friendly offers or loyalty programs that can increase their frequency of purchase, helping to maximize customer retention.\n"
      ],
      "metadata": {
        "id": "5a9cv5ZLitgi"
      }
    }
  ],
  "metadata": {
    "kernelspec": {
      "display_name": "Python 3",
      "language": "python",
      "name": "python3"
    },
    "language_info": {
      "codemirror_mode": {
        "name": "ipython",
        "version": 3
      },
      "file_extension": ".py",
      "mimetype": "text/x-python",
      "name": "python",
      "nbconvert_exporter": "python",
      "pygments_lexer": "ipython3",
      "version": "3.7.1"
    },
    "toc": {
      "base_numbering": 1,
      "nav_menu": {},
      "number_sections": true,
      "sideBar": true,
      "skip_h1_title": false,
      "title_cell": "Table of Contents",
      "title_sidebar": "Contents",
      "toc_cell": false,
      "toc_position": {},
      "toc_section_display": true,
      "toc_window_display": false
    },
    "colab": {
      "provenance": []
    }
  },
  "nbformat": 4,
  "nbformat_minor": 0
}